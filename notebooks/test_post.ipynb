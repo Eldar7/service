{
 "cells": [
  {
   "cell_type": "code",
   "execution_count": 15,
   "metadata": {},
   "outputs": [],
   "source": [
    "import requests"
   ]
  },
  {
   "cell_type": "code",
   "execution_count": null,
   "metadata": {},
   "outputs": [
    {
     "name": "stdout",
     "output_type": "stream",
     "text": [
      ">POST:\n"
     ]
    }
   ],
   "source": [
    "url = \"http://localhost:1111\"\n",
    "query = {\"a\": \"2\", \"b\": \"3\" }\n",
    "\n",
    "print(\">POST:\")\n",
    "print(requests.post(url, json=query).text)\n",
    "print(requests.post(url+'/sum', json=query).text)\n",
    "print(requests.post(url+'/mul', json=query).text)"
   ]
  },
  {
   "cell_type": "code",
   "execution_count": 40,
   "metadata": {},
   "outputs": [
    {
     "name": "stdout",
     "output_type": "stream",
     "text": [
      "Hello, world from : model\n"
     ]
    }
   ],
   "source": [
    "print(requests.get(url).text)"
   ]
  },
  {
   "cell_type": "code",
   "execution_count": null,
   "metadata": {},
   "outputs": [],
   "source": []
  }
 ],
 "metadata": {
  "kernelspec": {
   "display_name": "Python 3",
   "language": "python",
   "name": "python3"
  }
 },
 "nbformat": 4,
 "nbformat_minor": 2
}
